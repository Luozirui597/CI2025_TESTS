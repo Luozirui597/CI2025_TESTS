{
 "cells": [
  {
   "cell_type": "markdown",
   "id": "34daddad",
   "metadata": {},
   "source": [
    "#2-max problem\n"
   ]
  },
  {
   "cell_type": "code",
   "execution_count": 70,
   "id": "46d69c1c",
   "metadata": {},
   "outputs": [],
   "source": [
    "import random\n",
    "from icecream import ic\n",
    "from collections import namedtuple"
   ]
  },
  {
   "cell_type": "code",
   "execution_count": 71,
   "id": "d58e439c",
   "metadata": {},
   "outputs": [],
   "source": [
    "PROBLEM_SIZE = 100"
   ]
  },
  {
   "cell_type": "code",
   "execution_count": 72,
   "id": "a657b6a0",
   "metadata": {},
   "outputs": [],
   "source": [
    "Individual = namedtuple('individual', ['genotye', 'fitness'])"
   ]
  },
  {
   "cell_type": "code",
   "execution_count": 73,
   "id": "3eb252d1",
   "metadata": {},
   "outputs": [],
   "source": [
    "def fitness_function(sol):\n",
    "    return max(sum(sol), PROBLEM_SIZE - sum(sol))\n",
    "\n",
    "def single_bit_mutation(sol:Individual):\n",
    "\n",
    "    new_genotype = sol.genotype[:]\n",
    "    idx = random.randint(0, PROBLEM_SIZE-1)\n",
    "    new_genotype[idx] = not new_genotype[idx]\n",
    "    return Individual(new_genotype,None)\n",
    "\n",
    "def one_cut_xcover(p1: Individual, p2: Individual) -> Individual:\n",
    "    idx = random.randint(1, PROBLEM_SIZE-1)\n",
    "    new_genotype = p1.genotype[:idx] + p2.genotype[idx:]\n",
    "    return Individual(new_genotype, None)"
   ]
  },
  {
   "cell_type": "code",
   "execution_count": 74,
   "id": "810cf120",
   "metadata": {},
   "outputs": [],
   "source": [
    "def select_parents(population: list[Individual]) -> Individual:\n",
    "    tot_fitness = sum(i.fitness for i in population)\n",
    "    weights = ic([i.fitness / tot_fitness for i in population])\n",
    "    s = random.choices(population, weights=weights)\n",
    "    return s[0]"
   ]
  },
  {
   "cell_type": "code",
   "execution_count": 75,
   "id": "76633426",
   "metadata": {},
   "outputs": [],
   "source": [
    "POPULATION_SIZE = 10\n",
    "OFFSPRING_SIZE = 4"
   ]
  },
  {
   "cell_type": "code",
   "execution_count": 76,
   "id": "1a280c2d",
   "metadata": {},
   "outputs": [],
   "source": [
    "current_population = list()\n",
    "\n",
    "#current_solution = [random.random() < 0.5 for _ in range(PROBLEM_SIZE)]\n",
    "for i in range(POPULATION_SIZE):\n",
    "    genotype = [random.random() < 0.5 for _ in range(PROBLEM_SIZE)]\n",
    "    fitness = fitness_function(genotype)\n",
    "    new_individual = Individual(genotype, fitness)\n",
    "    current_population.append(new_individual)\n",
    "\n"
   ]
  },
  {
   "cell_type": "code",
   "execution_count": 77,
   "id": "b6dd43e3",
   "metadata": {},
   "outputs": [
    {
     "name": "stderr",
     "output_type": "stream",
     "text": [
      "\u001b[38;5;247mic\u001b[39m\u001b[38;5;245m|\u001b[39m\u001b[38;5;245m \u001b[39m\u001b[38;5;245m[\u001b[39m\u001b[38;5;247mi\u001b[39m\u001b[38;5;245m.\u001b[39m\u001b[38;5;247mfitness\u001b[39m\u001b[38;5;245m \u001b[39m\u001b[38;5;245m/\u001b[39m\u001b[38;5;245m \u001b[39m\u001b[38;5;247mtot_fitness\u001b[39m\u001b[38;5;245m \u001b[39m\u001b[38;5;100mfor\u001b[39m\u001b[38;5;245m \u001b[39m\u001b[38;5;247mi\u001b[39m\u001b[38;5;245m \u001b[39m\u001b[38;5;100min\u001b[39m\u001b[38;5;245m \u001b[39m\u001b[38;5;247mpopulation\u001b[39m\u001b[38;5;245m]\u001b[39m\u001b[38;5;245m:\u001b[39m\u001b[38;5;245m \u001b[39m\u001b[38;5;245m[\u001b[39m\u001b[38;5;36m0.10467289719626169\u001b[39m\u001b[38;5;245m,\u001b[39m\n",
      "\u001b[38;5;245m                                                    \u001b[39m\u001b[38;5;36m0.1102803738317757\u001b[39m\u001b[38;5;245m,\u001b[39m\n",
      "\u001b[38;5;245m                                                    \u001b[39m\u001b[38;5;36m0.09719626168224299\u001b[39m\u001b[38;5;245m,\u001b[39m\n",
      "\u001b[38;5;245m                                                    \u001b[39m\u001b[38;5;36m0.09906542056074766\u001b[39m\u001b[38;5;245m,\u001b[39m\n",
      "\u001b[38;5;245m                                                    \u001b[39m\u001b[38;5;36m0.09345794392523364\u001b[39m\u001b[38;5;245m,\u001b[39m\n",
      "\u001b[38;5;245m                                                    \u001b[39m\u001b[38;5;36m0.09719626168224299\u001b[39m\u001b[38;5;245m,\u001b[39m\n",
      "\u001b[38;5;245m                                                    \u001b[39m\u001b[38;5;36m0.09719626168224299\u001b[39m\u001b[38;5;245m,\u001b[39m\n",
      "\u001b[38;5;245m                                                    \u001b[39m\u001b[38;5;36m0.10467289719626169\u001b[39m\u001b[38;5;245m,\u001b[39m\n",
      "\u001b[38;5;245m                                                    \u001b[39m\u001b[38;5;36m0.102803738317757\u001b[39m\u001b[38;5;245m,\u001b[39m\n",
      "\u001b[38;5;245m                                                    \u001b[39m\u001b[38;5;36m0.09345794392523364\u001b[39m\u001b[38;5;245m]\u001b[39m\n",
      "\u001b[38;5;247mic\u001b[39m\u001b[38;5;245m|\u001b[39m\u001b[38;5;245m \u001b[39m\u001b[38;5;245m[\u001b[39m\u001b[38;5;247mi\u001b[39m\u001b[38;5;245m.\u001b[39m\u001b[38;5;247mfitness\u001b[39m\u001b[38;5;245m \u001b[39m\u001b[38;5;245m/\u001b[39m\u001b[38;5;245m \u001b[39m\u001b[38;5;247mtot_fitness\u001b[39m\u001b[38;5;245m \u001b[39m\u001b[38;5;100mfor\u001b[39m\u001b[38;5;245m \u001b[39m\u001b[38;5;247mi\u001b[39m\u001b[38;5;245m \u001b[39m\u001b[38;5;100min\u001b[39m\u001b[38;5;245m \u001b[39m\u001b[38;5;247mpopulation\u001b[39m\u001b[38;5;245m]\u001b[39m\u001b[38;5;245m:\u001b[39m\u001b[38;5;245m \u001b[39m\u001b[38;5;245m[\u001b[39m\u001b[38;5;36m0.10467289719626169\u001b[39m\u001b[38;5;245m,\u001b[39m\n",
      "\u001b[38;5;245m                                                    \u001b[39m\u001b[38;5;36m0.1102803738317757\u001b[39m\u001b[38;5;245m,\u001b[39m\n",
      "\u001b[38;5;245m                                                    \u001b[39m\u001b[38;5;36m0.09719626168224299\u001b[39m\u001b[38;5;245m,\u001b[39m\n",
      "\u001b[38;5;245m                                                    \u001b[39m\u001b[38;5;36m0.09906542056074766\u001b[39m\u001b[38;5;245m,\u001b[39m\n",
      "\u001b[38;5;245m                                                    \u001b[39m\u001b[38;5;36m0.09345794392523364\u001b[39m\u001b[38;5;245m,\u001b[39m\n",
      "\u001b[38;5;245m                                                    \u001b[39m\u001b[38;5;36m0.09719626168224299\u001b[39m\u001b[38;5;245m,\u001b[39m\n",
      "\u001b[38;5;245m                                                    \u001b[39m\u001b[38;5;36m0.09719626168224299\u001b[39m\u001b[38;5;245m,\u001b[39m\n",
      "\u001b[38;5;245m                                                    \u001b[39m\u001b[38;5;36m0.10467289719626169\u001b[39m\u001b[38;5;245m,\u001b[39m\n",
      "\u001b[38;5;245m                                                    \u001b[39m\u001b[38;5;36m0.102803738317757\u001b[39m\u001b[38;5;245m,\u001b[39m\n",
      "\u001b[38;5;245m                                                    \u001b[39m\u001b[38;5;36m0.09345794392523364\u001b[39m\u001b[38;5;245m]\u001b[39m\n"
     ]
    },
    {
     "ename": "AttributeError",
     "evalue": "'individual' object has no attribute 'genotype'",
     "output_type": "error",
     "traceback": [
      "\u001b[31m---------------------------------------------------------------------------\u001b[39m",
      "\u001b[31mAttributeError\u001b[39m                            Traceback (most recent call last)",
      "\u001b[36mCell\u001b[39m\u001b[36m \u001b[39m\u001b[32mIn[77]\u001b[39m\u001b[32m, line 13\u001b[39m\n\u001b[32m     11\u001b[39m     p1 = select_parents(current_population)\n\u001b[32m     12\u001b[39m     p2 = select_parents(current_population)\n\u001b[32m---> \u001b[39m\u001b[32m13\u001b[39m     o = \u001b[43mone_cut_xcover\u001b[49m\u001b[43m(\u001b[49m\u001b[43mp1\u001b[49m\u001b[43m,\u001b[49m\u001b[43m \u001b[49m\u001b[43mp2\u001b[49m\u001b[43m)\u001b[49m\n\u001b[32m     14\u001b[39m     \u001b[33m\"\u001b[39m\u001b[33mrecombination\u001b[39m\u001b[33m\"\u001b[39m\n\u001b[32m     15\u001b[39m offsprings.append(o)\n",
      "\u001b[36mCell\u001b[39m\u001b[36m \u001b[39m\u001b[32mIn[73]\u001b[39m\u001b[32m, line 13\u001b[39m, in \u001b[36mone_cut_xcover\u001b[39m\u001b[34m(p1, p2)\u001b[39m\n\u001b[32m     11\u001b[39m \u001b[38;5;28;01mdef\u001b[39;00m\u001b[38;5;250m \u001b[39m\u001b[34mone_cut_xcover\u001b[39m(p1: Individual, p2: Individual) -> Individual:\n\u001b[32m     12\u001b[39m     idx = random.randint(\u001b[32m1\u001b[39m, PROBLEM_SIZE-\u001b[32m1\u001b[39m)\n\u001b[32m---> \u001b[39m\u001b[32m13\u001b[39m     new_genotype = \u001b[43mp1\u001b[49m\u001b[43m.\u001b[49m\u001b[43mgenotype\u001b[49m[:idx] + p2.genotype[idx:]\n\u001b[32m     14\u001b[39m     \u001b[38;5;28;01mreturn\u001b[39;00m Individual(new_genotype, \u001b[38;5;28;01mNone\u001b[39;00m)\n",
      "\u001b[31mAttributeError\u001b[39m: 'individual' object has no attribute 'genotype'"
     ]
    }
   ],
   "source": [
    "offsprings = list()\n",
    "\n",
    "for generation in range(100):\n",
    "    \n",
    "    if random.random() < 0.2:\n",
    "        p = select_parents(current_population)\n",
    "        o = single_bit_mutation(p)\n",
    "        \n",
    "        \"mutation\"\n",
    "    else:\n",
    "        p1 = select_parents(current_population)\n",
    "        p2 = select_parents(current_population)\n",
    "        o = one_cut_xcover(p1, p2)\n",
    "        \"recombination\"\n",
    "    offsprings.append(o)\n",
    "\n",
    "    for o in offsprings:\n",
    "        o.fitness = fitness_function(o.genotype)\n",
    "    \n",
    "    offspring = [individual(o.genotype, fitness_function(o.genotype)) for o in offsprings]\n",
    "\n",
    "    current_population.extend(offsprings)\n",
    "    current_population.sort(current_population,key=lambda x: x.fitness, reverse=True)"
   ]
  },
  {
   "cell_type": "code",
   "execution_count": null,
   "id": "93755670",
   "metadata": {},
   "outputs": [],
   "source": [
    "best_fitness = -1\n",
    "for generation in range(100):\n",
    "    offspring = list()\n",
    "    for o in range(OFFSPRING_SIZE):\n",
    "        if random.random() < 0.2:\n",
    "            p = select_parents(current_population)\n",
    "            o = single_bit_mutation(p)\n",
    "            \n",
    "            \"mutation\"\n",
    "        else:\n",
    "            p1 = select_parents(current_population)\n",
    "            p2 = select_parents(current_population)\n",
    "            o = one_cut_xcover(p1, p2)\n",
    "            \"recombination\"\n",
    "        offspring.append(o)\n",
    "    o.fitness = [Individual(o.genotype, fitness_function(o.genotype)) for o in offspring]\n",
    "\n",
    "    current_population.extend(offspring)\n",
    "\n",
    "    current_population.sort(current_population,key=lambda x: x.fitness, reverse=True)\n",
    "    if current_population[0].fitness > best_fitness:\n",
    "        best_fitness = current_population[0].fitness\n",
    "\n",
    "    ic(f\"Generation {generation}: Best fitness = {best_fitne}ss\")"
   ]
  },
  {
   "cell_type": "code",
   "execution_count": null,
   "id": "c1a92a7f",
   "metadata": {},
   "outputs": [],
   "source": [
    "ic(offsprings)\n",
    "ic(current_population[0].fitness)\n",
    "ic(current_population[-1].fitness)"
   ]
  }
 ],
 "metadata": {
  "kernelspec": {
   "display_name": ".venv",
   "language": "python",
   "name": "python3"
  },
  "language_info": {
   "codemirror_mode": {
    "name": "ipython",
    "version": 3
   },
   "file_extension": ".py",
   "mimetype": "text/x-python",
   "name": "python",
   "nbconvert_exporter": "python",
   "pygments_lexer": "ipython3",
   "version": "3.13.3"
  }
 },
 "nbformat": 4,
 "nbformat_minor": 5
}
