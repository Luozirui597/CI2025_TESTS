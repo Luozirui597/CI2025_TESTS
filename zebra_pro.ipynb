{
 "cells": [
  {
   "cell_type": "markdown",
   "id": "09d0a812",
   "metadata": {},
   "source": [
    "zebra puzzles"
   ]
  },
  {
   "cell_type": "code",
   "execution_count": 7,
   "id": "c7f94984",
   "metadata": {},
   "outputs": [],
   "source": [
    "from copy import deepcopy\n",
    "from random import randint\n",
    "from icecream import ic\n",
    "from tqdm.auto import tqdm\n",
    "from random import choice, random"
   ]
  },
  {
   "cell_type": "code",
   "execution_count": 8,
   "id": "7677d777",
   "metadata": {},
   "outputs": [],
   "source": [
    "NUM_ITEM = 50\n",
    "NUM_CATEGORIES = 10\n"
   ]
  },
  {
   "cell_type": "code",
   "execution_count": 9,
   "id": "65e75ac5",
   "metadata": {},
   "outputs": [],
   "source": [
    "ITEMS = [[(c,n) for n in range(NUM_ITEM)] for c in range(NUM_CATEGORIES)]\n",
    "INCOMPATIBLE = [{randint(0,NUM_ITEM-1),randint(0,NUM_ITEM-1) , (randint(0,NUM_CATEGORIES-1),randint(0,NUM_CATEGORIES-1))} for _ in range(10000)]\n"
   ]
  },
  {
   "cell_type": "code",
   "execution_count": 10,
   "id": "b0c812d2",
   "metadata": {},
   "outputs": [],
   "source": [
    "def invalid(bag: set) -> bool:\n",
    "    return any(i <= bag for i in INCOMPATIBLE)\n",
    "def cost(solution: list[set]) -> int:\n",
    "    return sum(invalid(b) for b in solution)"
   ]
  },
  {
   "cell_type": "code",
   "execution_count": null,
   "id": "dba84f84",
   "metadata": {},
   "outputs": [],
   "source": [
    "\n",
    "\n",
    "#1.all mutation is possible\n",
    "#2.mutation is not too big -- small change\n",
    "#3.expolration vs exploitation -- different phase of the search\n",
    "def tweak(bag: list[set],t:float = 0.1) -> list[set]:\n",
    "    new_bags = deepcopy(bag)\n",
    "\n",
    "    again = True\n",
    "    while again:\n",
    "        # b1 = choice(i for i in range(NUM_ITEM) if check(new_bags[i]))\n",
    "        candidates = [i for i in range(NUM_ITEM) if invalid(new_bags[i])]\n",
    "        if not candidates:\n",
    "            # 没有任何满足 check 的袋子，直接返回或打破循环\n",
    "            return new_bags  # 或者：break\n",
    "\n",
    "        b1 = choice(candidates)\n",
    "        b2 = randint(0,NUM_ITEM-1)\n",
    "        b1_,b2_ = sorted(new_bags[b1]),sorted(new_bags[b2])\n",
    "        i = randint(0,NUM_CATEGORIES-1)\n",
    "        b1_[i],b2_[i] = b2_[i],b1_[i]\n",
    "        new_bags[b1],new_bags[b2] = set(b1_),set(b2_)\n",
    "        again = random() < t\n",
    "    return new_bags"
   ]
  },
  {
   "cell_type": "code",
   "execution_count": 12,
   "id": "e1e74e92",
   "metadata": {},
   "outputs": [
    {
     "name": "stderr",
     "output_type": "stream",
     "text": [
      "\u001b[38;5;247mic\u001b[39m\u001b[38;5;245m|\u001b[39m\u001b[38;5;245m \u001b[39m\u001b[38;5;247mcurrent_cost\u001b[39m\u001b[38;5;245m:\u001b[39m\u001b[38;5;245m \u001b[39m\u001b[38;5;36m0\u001b[39m\n",
      "  0%|          | 0/1000 [00:00<?, ?it/s]"
     ]
    },
    {
     "name": "stdout",
     "output_type": "stream",
     "text": [
      "0\n"
     ]
    },
    {
     "name": "stderr",
     "output_type": "stream",
     "text": [
      "\n"
     ]
    }
   ],
   "source": [
    "current_solution = [{ITEMS[c][i] for c in range(NUM_CATEGORIES)} for i in range(NUM_ITEM)]\n",
    "current_cost = cost(current_solution)\n",
    "\n",
    "ic(current_cost)\n",
    "\n",
    "max_steps = 100\n",
    "\n",
    "for steps in tqdm(range(1000)):\n",
    "    if current_cost == 0:\n",
    "        break\n",
    "    new_solution = tweak(current_solution,t=0.2)\n",
    "    new_cost = cost(new_solution)\n",
    "    if new_cost < current_cost:\n",
    "        current_solution = new_solution\n",
    "        current_cost = new_cost \n",
    "        ic(current_cost)\n",
    "print(current_cost)"
   ]
  }
 ],
 "metadata": {
  "kernelspec": {
   "display_name": ".venv",
   "language": "python",
   "name": "python3"
  },
  "language_info": {
   "codemirror_mode": {
    "name": "ipython",
    "version": 3
   },
   "file_extension": ".py",
   "mimetype": "text/x-python",
   "name": "python",
   "nbconvert_exporter": "python",
   "pygments_lexer": "ipython3",
   "version": "3.9.6"
  }
 },
 "nbformat": 4,
 "nbformat_minor": 5
}
